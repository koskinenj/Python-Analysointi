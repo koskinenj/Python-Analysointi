creator = "Jani"

print("""Printer App
This app is made by:""" + creator)

number1 = 5
number2 = 3

multiplication = number1*number2

# print(number1)

print("The value of number1 is",number1)
print("The value of number2 is",number2)


print(multiplication)