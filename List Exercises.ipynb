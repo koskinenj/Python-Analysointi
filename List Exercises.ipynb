{
 "cells": [
  {
   "cell_type": "code",
   "execution_count": 11,
   "metadata": {},
   "outputs": [
    {
     "name": "stdout",
     "output_type": "stream",
     "text": [
      "['chair', 'sofa', 'table', 'shelf']\n",
      "['chair', 'sofa']\n",
      "Sofa found in furniture list\n"
     ]
    }
   ],
   "source": [
    "# Exercise 1\n",
    "\n",
    "furniture = [\"chair\", \"sofa\", \"table\", \"shelf\"]\n",
    "\n",
    "print(furniture)\n",
    "print(furniture [:2])\n",
    "\n",
    "if \"sofa\" in furniture:\n",
    "    print(\"Sofa found in furniture list\")\n",
    "\n",
    "else:\n",
    "    print(\"Sofa not found\")\n",
    "\n"
   ]
  },
  {
   "cell_type": "code",
   "execution_count": 77,
   "metadata": {},
   "outputs": [
    {
     "name": "stdout",
     "output_type": "stream",
     "text": [
      "[41, 33, 69, 54, 59]\n",
      "256\n",
      "69\n"
     ]
    }
   ],
   "source": [
    "# Exercise 2\n",
    "\n",
    "from random import randint\n",
    "\n",
    "thrownDiceNumbers = []\n",
    "\n",
    "for i in range(5):\n",
    "    random_number = randint(1,25)\n",
    "    thrownDiceNumbers.append(random_number)\n",
    "  \n",
    "print(thrownDiceNumbers)  \n",
    "\n",
    "sumNumbers = sum(thrownDiceNumbers)\n",
    "print(sumNumbers)\n",
    "\n",
    "highest_value = max(thrownDiceNumbers)\n",
    "print(highest_value)\n",
    "\n"
   ]
  }
 ],
 "metadata": {
  "kernelspec": {
   "display_name": "Python 3",
   "language": "python",
   "name": "python3"
  },
  "language_info": {
   "codemirror_mode": {
    "name": "ipython",
    "version": 3
   },
   "file_extension": ".py",
   "mimetype": "text/x-python",
   "name": "python",
   "nbconvert_exporter": "python",
   "pygments_lexer": "ipython3",
   "version": "3.12.0"
  }
 },
 "nbformat": 4,
 "nbformat_minor": 2
}
