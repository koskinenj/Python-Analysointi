{
 "cells": [
  {
   "cell_type": "code",
   "execution_count": 2,
   "metadata": {},
   "outputs": [
    {
     "name": "stdout",
     "output_type": "stream",
     "text": [
      "Printer App\n",
      "\n",
      "This app is made by:Jani\n",
      "\n",
      "The value of number1 is 5\n",
      "The value of number2 is 3\n",
      "\n",
      "5 * 3 = 15\n",
      "5 : 3 = 1.6666666666666667\n",
      "5 - 3 = 2\n",
      "5 + 3 = 8\n"
     ]
    }
   ],
   "source": [
    "creator = \"Jani\"\n",
    "number1 = 5\n",
    "number2 = 3\n",
    "\n",
    "multiplication = number1*number2\n",
    "division = number1/number2\n",
    "substraction = number1-number2\n",
    "addition = number1+number2\n",
    "\n",
    "\n",
    "print(\"\"\"Printer App\\n\n",
    "This app is made by:\"\"\" + creator+\"\\n\")\n",
    "\n",
    "# print(number1)\n",
    "\n",
    "print(\"The value of number1 is\",number1)\n",
    "print(\"The value of number2 is\",number2)\n",
    "print(\"\")\n",
    "\n",
    "print(number1 , \"*\" , number2 ,\"=\",multiplication)\n",
    "print(number1,\":\",number2,\"=\",division)\n",
    "print(number1,\"-\",number2,\"=\",substraction)\n",
    "print(number1,\"+\",number2,\"=\",addition)\n"
   ]
  }
 ],
 "metadata": {
  "kernelspec": {
   "display_name": "Python 3",
   "language": "python",
   "name": "python3"
  },
  "language_info": {
   "codemirror_mode": {
    "name": "ipython",
    "version": 3
   },
   "file_extension": ".py",
   "mimetype": "text/x-python",
   "name": "python",
   "nbconvert_exporter": "python",
   "pygments_lexer": "ipython3",
   "version": "3.12.0"
  }
 },
 "nbformat": 4,
 "nbformat_minor": 2
}
