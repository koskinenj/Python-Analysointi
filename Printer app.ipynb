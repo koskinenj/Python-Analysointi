{
 "cells": [
  {
   "cell_type": "code",
   "execution_count": null,
   "metadata": {},
   "outputs": [],
   "source": [
    "creator = \"Jani\"\n",
    "number1 = 5\n",
    "number2 = 3\n",
    "\n",
    "multiplication = number1*number2\n",
    "division = number1/number2\n",
    "substraction = number1-number2\n",
    "addition = number1+number2\n",
    "\n",
    "\n",
    "print(\"\"\"Printer App\\n\n",
    "This app is made by:\"\"\" + creator+\"\\n\")\n",
    "\n",
    "# print(number1)\n",
    "\n",
    "print(\"The value of number1 is\",number1)\n",
    "print(\"The value of number2 is\",number2)\n",
    "print(\"\")\n",
    "\n",
    "print(number1 , \"*\" , number2 ,\"=\",multiplication)\n",
    "print(number1,\":\",number2,\"=\",division)\n",
    "print(number1,\"-\",number2,\"=\",substraction)\n",
    "print(number1,\"+\",number2,\"=\",addition)\n"
   ]
  }
 ],
 "metadata": {
  "kernelspec": {
   "display_name": "Python 3",
   "language": "python",
   "name": "python3"
  },
  "language_info": {
   "name": "python",
   "version": "3.12.0"
  }
 },
 "nbformat": 4,
 "nbformat_minor": 2
}
