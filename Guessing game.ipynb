{
 "cells": [
  {
   "cell_type": "code",
   "execution_count": 26,
   "metadata": {},
   "outputs": [
    {
     "name": "stdout",
     "output_type": "stream",
     "text": [
      "Congratulation!\n",
      "You guessed  3  times\n"
     ]
    }
   ],
   "source": [
    "\n",
    "name = \"Aapo\"\n",
    "guess = 0\n",
    "\n",
    "while True:\n",
    "    \n",
    "    vastaus = input(\"Please guess my name:\")\n",
    "    guess += 1\n",
    "\n",
    "    if vastaus == name:\n",
    "        print(\"Congratulation!\")\n",
    "        print(\"You guessed:\", guess, \" times\")\n",
    "        break\n",
    "    else:\n",
    "        vaarin = input(\"Incorrect, Do you want to quit? (y/n)\")\n",
    "        if vaarin == \"y\":\n",
    "            break\n",
    "            "
   ]
  }
 ],
 "metadata": {
  "kernelspec": {
   "display_name": "Python 3",
   "language": "python",
   "name": "python3"
  },
  "language_info": {
   "codemirror_mode": {
    "name": "ipython",
    "version": 3
   },
   "file_extension": ".py",
   "mimetype": "text/x-python",
   "name": "python",
   "nbconvert_exporter": "python",
   "pygments_lexer": "ipython3",
   "version": "3.12.0"
  }
 },
 "nbformat": 4,
 "nbformat_minor": 2
}
