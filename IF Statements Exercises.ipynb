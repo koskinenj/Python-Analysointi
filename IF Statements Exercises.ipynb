{
 "cells": [
  {
   "cell_type": "code",
   "execution_count": 2,
   "metadata": {},
   "outputs": [
    {
     "name": "stdout",
     "output_type": "stream",
     "text": [
      "Numbers are not equal\n",
      "Number1 is greater\n",
      "Number1 is greater than number2 or they are equal\n",
      "Number1 is not equal to number2\n"
     ]
    }
   ],
   "source": [
    "# 1\n",
    "\n",
    "number1 = 5\n",
    "number2 = 3\n",
    "\n",
    "\n",
    "if number1==number2:\n",
    "    print(\"Numbers are equal\")\n",
    "else:\n",
    "    print(\"Numbers are not equal\")\n",
    " \n",
    "if number1>number2:\n",
    "    print(\"Number1 is greater\")\n",
    "    \n",
    "if number1>number2 or number1==number2:\n",
    "    print(\"Number1 is greater than number2 or they are equal\")\n",
    "    \n",
    "if number1!=number2:\n",
    "    print(\"Number1 is not equal to number2\")\n",
    "     "
   ]
  },
  {
   "cell_type": "code",
   "execution_count": null,
   "metadata": {},
   "outputs": [],
   "source": [
    "# 2\n",
    "\n",
    "\n",
    "number1 = 5\n",
    "number2 = 6\n",
    "number3 = 5\n",
    "\n",
    "if number1==number2==number3:\n",
    "    print(\"All numbers are equal\")\n",
    "    \n",
    "if number1==number2 or number1==number3:\n",
    "    print(\"Number1 and number2 are equal OR number1 and number3 are equal\")\n",
    "    \n",
    "if number1>number2 and number1>number3:\n",
    "    print(\"Number1 is greater than number2 and number3 \")\n",
    "    \n",
    "if number1 > number2:\n",
    "    print(\"Number1 is greater than Number2\")\n",
    "elif number2>number3:\n",
    "    print(\"Number2 is greater than Number3\")\n",
    "    \n",
    "if number1==number2:\n",
    "    print(\"Number1 and number2 are equal\")\n",
    "elif number1==number3:\n",
    "    print(\"Number1 and Number3 are equal\")"
   ]
  },
  {
   "cell_type": "code",
   "execution_count": null,
   "metadata": {},
   "outputs": [],
   "source": [
    "# 3\n",
    "\n",
    "name1 = \"Jani\"\n",
    "name2 = \"Eetu\"\n",
    "name3 = \"Teemu\"\n",
    "\n",
    "\n",
    "if name1==name2:\n",
    "    print(\"Name1 and Name2 are equal\")\n",
    "    \n",
    "if name1!=name2:\n",
    "    print(\"Name1 and Name2 are not equal\")\n",
    "    \n",
    "if name1==name2:\n",
    "    print(\"Name1 and Name2 are equal\")\n",
    "elif name1==name3:\n",
    "    print(\"Name1 and Name3 are equal\")\n",
    "       \n",
    "if name1 is name2:\n",
    "    print(\"Name1 and Name2 refer to the same String object\")"
   ]
  }
 ],
 "metadata": {
  "kernelspec": {
   "display_name": "Python 3",
   "language": "python",
   "name": "python3"
  },
  "language_info": {
   "codemirror_mode": {
    "name": "ipython",
    "version": 3
   },
   "file_extension": ".py",
   "mimetype": "text/x-python",
   "name": "python",
   "nbconvert_exporter": "python",
   "pygments_lexer": "ipython3",
   "version": "3.12.0"
  }
 },
 "nbformat": 4,
 "nbformat_minor": 2
}
